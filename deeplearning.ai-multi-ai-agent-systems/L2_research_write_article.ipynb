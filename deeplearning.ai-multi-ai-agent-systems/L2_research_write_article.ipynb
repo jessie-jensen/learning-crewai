{
 "cells": [
  {
   "cell_type": "markdown",
   "metadata": {},
   "source": [
    "You can download the `requirements.txt` for this course from the workspace of this lab. `File --> Open...`"
   ]
  },
  {
   "cell_type": "markdown",
   "metadata": {},
   "source": [
    "# L2: Create Agents to Research and Write an Article\n",
    "\n",
    "In this lesson, you will be introduced to the foundational concepts of multi-agent systems and get an overview of the crewAI framework."
   ]
  },
  {
   "cell_type": "markdown",
   "metadata": {},
   "source": [
    "The libraries are already installed in the classroom. If you're running this notebook on your own machine, you can install the following:\n",
    "```Python\n",
    "!pip install crewai==0.28.8 crewai_tools==0.1.6 langchain_community==0.0.29\n",
    "```"
   ]
  },
  {
   "cell_type": "code",
   "execution_count": 1,
   "metadata": {
    "height": 64
   },
   "outputs": [],
   "source": [
    "# Warning control\n",
    "import warnings\n",
    "warnings.filterwarnings('ignore')"
   ]
  },
  {
   "cell_type": "markdown",
   "metadata": {},
   "source": [
    "- Import from the crewAI libray."
   ]
  },
  {
   "cell_type": "code",
   "execution_count": 2,
   "metadata": {
    "height": 30
   },
   "outputs": [],
   "source": [
    "from crewai import Agent, Task, Crew"
   ]
  },
  {
   "cell_type": "markdown",
   "metadata": {},
   "source": [
    "- As a LLM for your agents, you'll be using OpenAI's `gpt-3.5-turbo`.\n",
    "\n",
    "**Optional Note:** crewAI also allow other popular models to be used as a LLM for your Agents. You can see some of the examples at the [bottom of the notebook](#1)."
   ]
  },
  {
   "cell_type": "code",
   "execution_count": 3,
   "metadata": {
    "height": 98
   },
   "outputs": [],
   "source": [
    "import os\n",
    "from utils import get_openai_api_key\n",
    "\n",
    "openai_api_key = get_openai_api_key()\n",
    "os.environ[\"OPENAI_MODEL_NAME\"] = 'gpt-3.5-turbo'"
   ]
  },
  {
   "cell_type": "markdown",
   "metadata": {},
   "source": [
    "## Creating Agents\n",
    "\n",
    "- Define your Agents, and provide them a `role`, `goal` and `backstory`.\n",
    "- It has been seen that LLMs perform better when they are role playing."
   ]
  },
  {
   "cell_type": "markdown",
   "metadata": {},
   "source": [
    "### Agent: Planner\n",
    "\n",
    "**Note**: The benefit of using _multiple strings_ :\n",
    "```Python\n",
    "varname = \"line 1 of text\"\n",
    "          \"line 2 of text\"\n",
    "```\n",
    "\n",
    "versus the _triple quote docstring_:\n",
    "```Python\n",
    "varname = \"\"\"line 1 of text\n",
    "             line 2 of text\n",
    "          \"\"\"\n",
    "```\n",
    "is that it can avoid adding those whitespaces and newline characters, making it better formatted to be passed to the LLM."
   ]
  },
  {
   "cell_type": "code",
   "execution_count": 4,
   "metadata": {
    "height": 234
   },
   "outputs": [],
   "source": [
    "planner = Agent(\n",
    "    role=\"Content Planner\",\n",
    "    goal=\"Plan engaging and factually accurate content on {topic}\",\n",
    "    backstory=\"You're working on planning a blog article \"\n",
    "              \"about the topic: {topic}.\"\n",
    "              \"You collect information that helps the \"\n",
    "              \"audience learn something \"\n",
    "              \"and make informed decisions. \"\n",
    "              \"Your work is the basis for \"\n",
    "              \"the Content Writer to write an article on this topic.\",\n",
    "    allow_delegation=False,\n",
    "\tverbose=True\n",
    ")"
   ]
  },
  {
   "cell_type": "markdown",
   "metadata": {},
   "source": [
    "### Agent: Writer"
   ]
  },
  {
   "cell_type": "code",
   "execution_count": 5,
   "metadata": {
    "height": 370
   },
   "outputs": [],
   "source": [
    "writer = Agent(\n",
    "    role=\"Content Writer\",\n",
    "    goal=\"Write insightful and factually accurate \"\n",
    "         \"opinion piece about the topic: {topic}\",\n",
    "    backstory=\"You're working on a writing \"\n",
    "              \"a new opinion piece about the topic: {topic}. \"\n",
    "              \"You base your writing on the work of \"\n",
    "              \"the Content Planner, who provides an outline \"\n",
    "              \"and relevant context about the topic. \"\n",
    "              \"You follow the main objectives and \"\n",
    "              \"direction of the outline, \"\n",
    "              \"as provide by the Content Planner. \"\n",
    "              \"You also provide objective and impartial insights \"\n",
    "              \"and back them up with information \"\n",
    "              \"provide by the Content Planner. \"\n",
    "              \"You acknowledge in your opinion piece \"\n",
    "              \"when your statements are opinions \"\n",
    "              \"as opposed to objective statements.\",\n",
    "    allow_delegation=False,\n",
    "    verbose=True\n",
    ")"
   ]
  },
  {
   "cell_type": "markdown",
   "metadata": {},
   "source": [
    "### Agent: Editor"
   ]
  },
  {
   "cell_type": "code",
   "execution_count": 6,
   "metadata": {
    "height": 268
   },
   "outputs": [],
   "source": [
    "editor = Agent(\n",
    "    role=\"Editor\",\n",
    "    goal=\"Edit a given blog post to align with \"\n",
    "         \"the writing style of the organization. \",\n",
    "    backstory=\"You are an editor who receives a blog post \"\n",
    "              \"from the Content Writer. \"\n",
    "              \"Your goal is to review the blog post \"\n",
    "              \"to ensure that it follows journalistic best practices,\"\n",
    "              \"provides balanced viewpoints \"\n",
    "              \"when providing opinions or assertions, \"\n",
    "              \"and also avoids major controversial topics \"\n",
    "              \"or opinions when possible.\",\n",
    "    allow_delegation=False,\n",
    "    verbose=True\n",
    ")"
   ]
  },
  {
   "cell_type": "markdown",
   "metadata": {},
   "source": [
    "## Creating Tasks\n",
    "\n",
    "- Define your Tasks, and provide them a `description`, `expected_output` and `agent`."
   ]
  },
  {
   "cell_type": "markdown",
   "metadata": {},
   "source": [
    "### Task: Plan"
   ]
  },
  {
   "cell_type": "code",
   "execution_count": 7,
   "metadata": {
    "height": 268
   },
   "outputs": [],
   "source": [
    "plan = Task(\n",
    "    description=(\n",
    "        \"1. Prioritize the latest trends, key players, \"\n",
    "            \"and noteworthy news on {topic}.\\n\"\n",
    "        \"2. Identify the target audience, considering \"\n",
    "            \"their interests and pain points.\\n\"\n",
    "        \"3. Develop a detailed content outline including \"\n",
    "            \"an introduction, key points, and a call to action.\\n\"\n",
    "        \"4. Include SEO keywords and relevant data or sources.\"\n",
    "    ),\n",
    "    expected_output=\"A comprehensive content plan document \"\n",
    "        \"with an outline, audience analysis, \"\n",
    "        \"SEO keywords, and resources.\",\n",
    "    agent=planner,\n",
    ")"
   ]
  },
  {
   "cell_type": "markdown",
   "metadata": {},
   "source": [
    "### Task: Write"
   ]
  },
  {
   "cell_type": "code",
   "execution_count": 8,
   "metadata": {
    "height": 319
   },
   "outputs": [],
   "source": [
    "write = Task(\n",
    "    description=(\n",
    "        \"1. Use the content plan to craft a compelling \"\n",
    "            \"blog post on {topic}.\\n\"\n",
    "        \"2. Incorporate SEO keywords naturally.\\n\"\n",
    "\t\t\"3. Sections/Subtitles are properly named \"\n",
    "            \"in an engaging manner.\\n\"\n",
    "        \"4. Ensure the post is structured with an \"\n",
    "            \"engaging introduction, insightful body, \"\n",
    "            \"and a summarizing conclusion.\\n\"\n",
    "        \"5. Proofread for grammatical errors and \"\n",
    "            \"alignment with the brand's voice.\\n\"\n",
    "    ),\n",
    "    expected_output=\"A well-written blog post \"\n",
    "        \"in markdown format, ready for publication, \"\n",
    "        \"each section should have 2 or 3 paragraphs.\",\n",
    "    agent=writer,\n",
    ")"
   ]
  },
  {
   "cell_type": "markdown",
   "metadata": {},
   "source": [
    "### Task: Edit"
   ]
  },
  {
   "cell_type": "code",
   "execution_count": 9,
   "metadata": {
    "height": 166
   },
   "outputs": [],
   "source": [
    "edit = Task(\n",
    "    description=(\"Proofread the given blog post for \"\n",
    "                 \"grammatical errors and \"\n",
    "                 \"alignment with the brand's voice.\"),\n",
    "    expected_output=\"A well-written blog post in markdown format, \"\n",
    "                    \"ready for publication, \"\n",
    "                    \"each section should have 2 or 3 paragraphs.\",\n",
    "    agent=editor\n",
    ")"
   ]
  },
  {
   "cell_type": "markdown",
   "metadata": {},
   "source": [
    "## Creating the Crew\n",
    "\n",
    "- Create your crew of Agents\n",
    "- Pass the tasks to be performed by those agents.\n",
    "    - **Note**: *For this simple example*, the tasks will be performed sequentially (i.e they are dependent on each other), so the _order_ of the task in the list _matters_.\n",
    "- `verbose=2` allows you to see all the logs of the execution. "
   ]
  },
  {
   "cell_type": "code",
   "execution_count": 10,
   "metadata": {
    "height": 98
   },
   "outputs": [],
   "source": [
    "crew = Crew(\n",
    "    agents=[planner, writer, editor],\n",
    "    tasks=[plan, write, edit],\n",
    "    verbose=2\n",
    ")"
   ]
  },
  {
   "cell_type": "markdown",
   "metadata": {},
   "source": [
    "## Running the Crew"
   ]
  },
  {
   "cell_type": "markdown",
   "metadata": {},
   "source": [
    "**Note**: LLMs can provide different outputs for they same input, so what you get might be different than what you see in the video."
   ]
  },
  {
   "cell_type": "code",
   "execution_count": 11,
   "metadata": {
    "height": 30
   },
   "outputs": [
    {
     "name": "stdout",
     "output_type": "stream",
     "text": [
      "\u001b[1m\u001b[95m [DEBUG]: == Working Agent: Content Planner\u001b[00m\n",
      "\u001b[1m\u001b[95m [INFO]: == Starting Task: 1. Prioritize the latest trends, key players, and noteworthy news on Artificial Intelligence.\n",
      "2. Identify the target audience, considering their interests and pain points.\n",
      "3. Develop a detailed content outline including an introduction, key points, and a call to action.\n",
      "4. Include SEO keywords and relevant data or sources.\u001b[00m\n",
      "\n",
      "\n",
      "\u001b[1m> Entering new CrewAgentExecutor chain...\u001b[0m\n",
      "\u001b[32;1m\u001b[1;3mI now can give a great answer\n",
      "\n",
      "Final Answer: \n",
      "\n",
      "Title: Unveiling the Latest Trends and Key Players in Artificial Intelligence\n",
      "\n",
      "Introduction:\n",
      "- Brief overview of Artificial Intelligence and its significance in today's technological landscape\n",
      "- Mention of the rapid advancements and innovations in AI technology\n",
      "\n",
      "Key Points:\n",
      "1. Latest Trends in Artificial Intelligence:\n",
      "- Rise of AI in healthcare, finance, retail, and other industries\n",
      "- Evolution of AI-powered chatbots and virtual assistants\n",
      "- Integration of AI in autonomous vehicles and smart cities\n",
      "- Ethical considerations and regulations surrounding AI development\n",
      "\n",
      "2. Key Players in the AI Industry:\n",
      "- Leading companies such as Google, Microsoft, IBM, and Amazon investing heavily in AI research\n",
      "- Startup companies disrupting the AI space with innovative solutions\n",
      "- Notable research institutions and universities contributing to AI advancements\n",
      "\n",
      "3. Noteworthy News in Artificial Intelligence:\n",
      "- Recent breakthroughs in machine learning algorithms and neural networks\n",
      "- Impact of AI on job automation and workforce transformation\n",
      "- Collaborations between tech giants and government agencies for AI applications\n",
      "- Public perception and concerns about the future of AI technology\n",
      "\n",
      "Audience Analysis:\n",
      "- Target audience includes tech enthusiasts, industry professionals, students, and policymakers\n",
      "- Interests: Stay updated on the latest AI trends, learn about key players in the industry, understand the implications of AI technology\n",
      "- Pain Points: Confusion about complex AI concepts, uncertainty about the future of AI technology, lack of reliable sources for AI news and information\n",
      "\n",
      "Call to Action:\n",
      "- Encourage readers to stay informed about AI developments through reputable sources\n",
      "- Invite audience to engage in discussions about AI ethics and regulations\n",
      "- Provide resources for further reading and exploration of AI topics\n",
      "\n",
      "SEO Keywords:\n",
      "- Artificial Intelligence trends 2021\n",
      "- Top AI companies\n",
      "- Latest news in AI technology\n",
      "- AI industry updates\n",
      "\n",
      "Resources:\n",
      "1. \"The State of AI in 2021\" report by PwC\n",
      "2. \"Artificial Intelligence: A Modern Approach\" textbook by Stuart Russell and Peter Norvig\n",
      "3. \"AI Ethics Guidelines\" by the European Commission\n",
      "4. Articles from reputable sources such as Forbes, TechCrunch, and MIT Technology Review\n",
      "\n",
      "Overall, this blog article aims to provide a comprehensive overview of the latest trends, key players, and noteworthy news in the field of Artificial Intelligence, catering to a diverse audience with varying levels of interest and expertise in AI technology. By incorporating SEO keywords and relevant resources, the content plan ensures that the article is engaging, informative, and accessible to readers seeking valuable insights on AI advancements.\u001b[0m\n",
      "\n",
      "\u001b[1m> Finished chain.\u001b[0m\n",
      "\u001b[1m\u001b[92m [DEBUG]: == [Content Planner] Task output: Title: Unveiling the Latest Trends and Key Players in Artificial Intelligence\n",
      "\n",
      "Introduction:\n",
      "- Brief overview of Artificial Intelligence and its significance in today's technological landscape\n",
      "- Mention of the rapid advancements and innovations in AI technology\n",
      "\n",
      "Key Points:\n",
      "1. Latest Trends in Artificial Intelligence:\n",
      "- Rise of AI in healthcare, finance, retail, and other industries\n",
      "- Evolution of AI-powered chatbots and virtual assistants\n",
      "- Integration of AI in autonomous vehicles and smart cities\n",
      "- Ethical considerations and regulations surrounding AI development\n",
      "\n",
      "2. Key Players in the AI Industry:\n",
      "- Leading companies such as Google, Microsoft, IBM, and Amazon investing heavily in AI research\n",
      "- Startup companies disrupting the AI space with innovative solutions\n",
      "- Notable research institutions and universities contributing to AI advancements\n",
      "\n",
      "3. Noteworthy News in Artificial Intelligence:\n",
      "- Recent breakthroughs in machine learning algorithms and neural networks\n",
      "- Impact of AI on job automation and workforce transformation\n",
      "- Collaborations between tech giants and government agencies for AI applications\n",
      "- Public perception and concerns about the future of AI technology\n",
      "\n",
      "Audience Analysis:\n",
      "- Target audience includes tech enthusiasts, industry professionals, students, and policymakers\n",
      "- Interests: Stay updated on the latest AI trends, learn about key players in the industry, understand the implications of AI technology\n",
      "- Pain Points: Confusion about complex AI concepts, uncertainty about the future of AI technology, lack of reliable sources for AI news and information\n",
      "\n",
      "Call to Action:\n",
      "- Encourage readers to stay informed about AI developments through reputable sources\n",
      "- Invite audience to engage in discussions about AI ethics and regulations\n",
      "- Provide resources for further reading and exploration of AI topics\n",
      "\n",
      "SEO Keywords:\n",
      "- Artificial Intelligence trends 2021\n",
      "- Top AI companies\n",
      "- Latest news in AI technology\n",
      "- AI industry updates\n",
      "\n",
      "Resources:\n",
      "1. \"The State of AI in 2021\" report by PwC\n",
      "2. \"Artificial Intelligence: A Modern Approach\" textbook by Stuart Russell and Peter Norvig\n",
      "3. \"AI Ethics Guidelines\" by the European Commission\n",
      "4. Articles from reputable sources such as Forbes, TechCrunch, and MIT Technology Review\n",
      "\n",
      "Overall, this blog article aims to provide a comprehensive overview of the latest trends, key players, and noteworthy news in the field of Artificial Intelligence, catering to a diverse audience with varying levels of interest and expertise in AI technology. By incorporating SEO keywords and relevant resources, the content plan ensures that the article is engaging, informative, and accessible to readers seeking valuable insights on AI advancements.\n",
      "\n",
      "\u001b[00m\n",
      "\u001b[1m\u001b[95m [DEBUG]: == Working Agent: Content Writer\u001b[00m\n",
      "\u001b[1m\u001b[95m [INFO]: == Starting Task: 1. Use the content plan to craft a compelling blog post on Artificial Intelligence.\n",
      "2. Incorporate SEO keywords naturally.\n",
      "3. Sections/Subtitles are properly named in an engaging manner.\n",
      "4. Ensure the post is structured with an engaging introduction, insightful body, and a summarizing conclusion.\n",
      "5. Proofread for grammatical errors and alignment with the brand's voice.\n",
      "\u001b[00m\n",
      "\n",
      "\n",
      "\u001b[1m> Entering new CrewAgentExecutor chain...\u001b[0m\n",
      "\u001b[32;1m\u001b[1;3mI have a clear understanding of the key points outlined in the content plan and how to structure my blog post on Artificial Intelligence. With the provided resources and SEO keywords in mind, I can craft a compelling and informative piece that will engage the target audience effectively.\n",
      "\n",
      "Final Answer:\n",
      "\n",
      "# Unveiling the Latest Trends and Key Players in Artificial Intelligence\n",
      "\n",
      "In today's rapidly evolving technological landscape, Artificial Intelligence (AI) has emerged as a groundbreaking field with immense significance. The capabilities of AI technology have advanced at an unprecedented pace, leading to innovations that are revolutionizing various industries and aspects of our daily lives. From healthcare to finance, retail to autonomous vehicles, AI is reshaping the way we interact with technology and the world around us.\n",
      "\n",
      "## Latest Trends in Artificial Intelligence\n",
      "\n",
      "One of the most prominent trends in AI is its widespread adoption across different sectors. In healthcare, AI is being utilized for tasks such as diagnostics, personalized treatment plans, and drug discovery, leading to improved patient outcomes and operational efficiencies. In finance, AI-powered algorithms are revolutionizing risk management, fraud detection, and customer service, enhancing decision-making processes and driving business growth.\n",
      "\n",
      "Another key trend is the evolution of AI-powered chatbots and virtual assistants, which are becoming increasingly sophisticated in their ability to understand and respond to human interactions. These AI applications are transforming customer service experiences, streamlining communication channels, and improving overall user satisfaction.\n",
      "\n",
      "Furthermore, the integration of AI in autonomous vehicles and smart cities is paving the way for a more connected and efficient urban environment. AI technologies are enabling vehicles to navigate complex roadways autonomously, optimize traffic flow, and reduce carbon emissions, contributing to a more sustainable and intelligent transportation system.\n",
      "\n",
      "However, with these advancements come ethical considerations and regulatory challenges surrounding AI development. Issues such as data privacy, algorithmic bias, and accountability are critical aspects that need to be addressed to ensure the responsible and ethical deployment of AI technologies in society.\n",
      "\n",
      "## Key Players in the AI Industry\n",
      "\n",
      "Leading companies such as Google, Microsoft, IBM, and Amazon are at the forefront of AI research and development, investing heavily in cutting-edge technologies and solutions. These tech giants are driving innovation in areas such as natural language processing, computer vision, and reinforcement learning, shaping the future of AI applications across industries.\n",
      "\n",
      "In addition to established players, startup companies are also making significant strides in the AI space, disrupting traditional models with innovative products and services. These startups are nimble, agile, and often specialize in niche areas of AI, bringing fresh perspectives and solutions to the market.\n",
      "\n",
      "Moreover, research institutions and universities play a crucial role in advancing AI technologies through groundbreaking research and academic collaborations. Institutions such as Stanford University, MIT, and the Allen Institute for AI are at the forefront of AI research, pushing the boundaries of what is possible in the field.\n",
      "\n",
      "## Noteworthy News in Artificial Intelligence\n",
      "\n",
      "Recent breakthroughs in machine learning algorithms and neural networks have propelled AI capabilities to new heights, enabling applications such as natural language understanding, image recognition, and predictive analytics to achieve unprecedented levels of accuracy and efficiency.\n",
      "\n",
      "The impact of AI on job automation and workforce transformation is a topic of growing concern, as AI technologies have the potential to disrupt traditional job roles and create new opportunities for human-machine collaboration. It is essential for policymakers, industry leaders, and individuals to adapt to these changes and invest in reskilling and upskilling initiatives to thrive in the digital economy.\n",
      "\n",
      "Collaborations between tech giants and government agencies for AI applications are driving innovation and accelerating the adoption of AI technologies in various sectors. By working together, these stakeholders can leverage their expertise and resources to address societal challenges, improve public services, and drive economic growth.\n",
      "\n",
      "Public perception and concerns about the future of AI technology also play a significant role in shaping the development and deployment of AI technologies. Addressing these concerns through transparent communication, ethical guidelines, and robust regulatory frameworks is essential to building trust and ensuring that AI technologies benefit society as a whole.\n",
      "\n",
      "In conclusion, Artificial Intelligence is a dynamic and transformative field that continues to evolve and shape the future of technology and society. By staying informed about the latest trends, key players, and noteworthy news in AI, readers can gain valuable insights into the opportunities and challenges presented by this exciting field. Through engagement in discussions about AI ethics and regulations, individuals can contribute to the responsible and ethical development of AI technologies for the benefit of all.\n",
      "\n",
      "---\n",
      "\n",
      "By seamlessly incorporating the provided SEO keywords and resources, this blog post caters to the interests and pain points of the target audience, offering a comprehensive overview of the latest developments in Artificial Intelligence. With an engaging introduction, insightful body, and summarizing conclusion, this article provides valuable insights and information for readers seeking to understand the implications and advancements in the field of AI technology.\u001b[0m\n",
      "\n",
      "\u001b[1m> Finished chain.\u001b[0m\n",
      "\u001b[1m\u001b[92m [DEBUG]: == [Content Writer] Task output: # Unveiling the Latest Trends and Key Players in Artificial Intelligence\n",
      "\n",
      "In today's rapidly evolving technological landscape, Artificial Intelligence (AI) has emerged as a groundbreaking field with immense significance. The capabilities of AI technology have advanced at an unprecedented pace, leading to innovations that are revolutionizing various industries and aspects of our daily lives. From healthcare to finance, retail to autonomous vehicles, AI is reshaping the way we interact with technology and the world around us.\n",
      "\n",
      "## Latest Trends in Artificial Intelligence\n",
      "\n",
      "One of the most prominent trends in AI is its widespread adoption across different sectors. In healthcare, AI is being utilized for tasks such as diagnostics, personalized treatment plans, and drug discovery, leading to improved patient outcomes and operational efficiencies. In finance, AI-powered algorithms are revolutionizing risk management, fraud detection, and customer service, enhancing decision-making processes and driving business growth.\n",
      "\n",
      "Another key trend is the evolution of AI-powered chatbots and virtual assistants, which are becoming increasingly sophisticated in their ability to understand and respond to human interactions. These AI applications are transforming customer service experiences, streamlining communication channels, and improving overall user satisfaction.\n",
      "\n",
      "Furthermore, the integration of AI in autonomous vehicles and smart cities is paving the way for a more connected and efficient urban environment. AI technologies are enabling vehicles to navigate complex roadways autonomously, optimize traffic flow, and reduce carbon emissions, contributing to a more sustainable and intelligent transportation system.\n",
      "\n",
      "However, with these advancements come ethical considerations and regulatory challenges surrounding AI development. Issues such as data privacy, algorithmic bias, and accountability are critical aspects that need to be addressed to ensure the responsible and ethical deployment of AI technologies in society.\n",
      "\n",
      "## Key Players in the AI Industry\n",
      "\n",
      "Leading companies such as Google, Microsoft, IBM, and Amazon are at the forefront of AI research and development, investing heavily in cutting-edge technologies and solutions. These tech giants are driving innovation in areas such as natural language processing, computer vision, and reinforcement learning, shaping the future of AI applications across industries.\n",
      "\n",
      "In addition to established players, startup companies are also making significant strides in the AI space, disrupting traditional models with innovative products and services. These startups are nimble, agile, and often specialize in niche areas of AI, bringing fresh perspectives and solutions to the market.\n",
      "\n",
      "Moreover, research institutions and universities play a crucial role in advancing AI technologies through groundbreaking research and academic collaborations. Institutions such as Stanford University, MIT, and the Allen Institute for AI are at the forefront of AI research, pushing the boundaries of what is possible in the field.\n",
      "\n",
      "## Noteworthy News in Artificial Intelligence\n",
      "\n",
      "Recent breakthroughs in machine learning algorithms and neural networks have propelled AI capabilities to new heights, enabling applications such as natural language understanding, image recognition, and predictive analytics to achieve unprecedented levels of accuracy and efficiency.\n",
      "\n",
      "The impact of AI on job automation and workforce transformation is a topic of growing concern, as AI technologies have the potential to disrupt traditional job roles and create new opportunities for human-machine collaboration. It is essential for policymakers, industry leaders, and individuals to adapt to these changes and invest in reskilling and upskilling initiatives to thrive in the digital economy.\n",
      "\n",
      "Collaborations between tech giants and government agencies for AI applications are driving innovation and accelerating the adoption of AI technologies in various sectors. By working together, these stakeholders can leverage their expertise and resources to address societal challenges, improve public services, and drive economic growth.\n",
      "\n",
      "Public perception and concerns about the future of AI technology also play a significant role in shaping the development and deployment of AI technologies. Addressing these concerns through transparent communication, ethical guidelines, and robust regulatory frameworks is essential to building trust and ensuring that AI technologies benefit society as a whole.\n",
      "\n",
      "In conclusion, Artificial Intelligence is a dynamic and transformative field that continues to evolve and shape the future of technology and society. By staying informed about the latest trends, key players, and noteworthy news in AI, readers can gain valuable insights into the opportunities and challenges presented by this exciting field. Through engagement in discussions about AI ethics and regulations, individuals can contribute to the responsible and ethical development of AI technologies for the benefit of all.\n",
      "\n",
      "---\n",
      "\n",
      "By seamlessly incorporating the provided SEO keywords and resources, this blog post caters to the interests and pain points of the target audience, offering a comprehensive overview of the latest developments in Artificial Intelligence. With an engaging introduction, insightful body, and summarizing conclusion, this article provides valuable insights and information for readers seeking to understand the implications and advancements in the field of AI technology.\n",
      "\n",
      "\u001b[00m\n",
      "\u001b[1m\u001b[95m [DEBUG]: == Working Agent: Editor\u001b[00m\n",
      "\u001b[1m\u001b[95m [INFO]: == Starting Task: Proofread the given blog post for grammatical errors and alignment with the brand's voice.\u001b[00m\n",
      "\n",
      "\n",
      "\u001b[1m> Entering new CrewAgentExecutor chain...\u001b[0m\n"
     ]
    },
    {
     "name": "stdout",
     "output_type": "stream",
     "text": [
      "\u001b[32;1m\u001b[1;3mI now can give a great answer\n",
      "\n",
      "Final Answer:\n",
      "# Unveiling the Latest Trends and Key Players in Artificial Intelligence\n",
      "\n",
      "In today's rapidly evolving technological landscape, Artificial Intelligence (AI) has emerged as a groundbreaking field with immense significance. The capabilities of AI technology have advanced at an unprecedented pace, leading to innovations that are revolutionizing various industries and aspects of our daily lives. From healthcare to finance, retail to autonomous vehicles, AI is reshaping the way we interact with technology and the world around us.\n",
      "\n",
      "## Latest Trends in Artificial Intelligence\n",
      "\n",
      "One of the most prominent trends in AI is its widespread adoption across different sectors. In healthcare, AI is being utilized for tasks such as diagnostics, personalized treatment plans, and drug discovery, leading to improved patient outcomes and operational efficiencies. In finance, AI-powered algorithms are revolutionizing risk management, fraud detection, and customer service, enhancing decision-making processes and driving business growth.\n",
      "\n",
      "Another key trend is the evolution of AI-powered chatbots and virtual assistants, which are becoming increasingly sophisticated in their ability to understand and respond to human interactions. These AI applications are transforming customer service experiences, streamlining communication channels, and improving overall user satisfaction.\n",
      "\n",
      "Furthermore, the integration of AI in autonomous vehicles and smart cities is paving the way for a more connected and efficient urban environment. AI technologies are enabling vehicles to navigate complex roadways autonomously, optimize traffic flow, and reduce carbon emissions, contributing to a more sustainable and intelligent transportation system.\n",
      "\n",
      "However, with these advancements come ethical considerations and regulatory challenges surrounding AI development. Issues such as data privacy, algorithmic bias, and accountability are critical aspects that need to be addressed to ensure the responsible and ethical deployment of AI technologies in society.\n",
      "\n",
      "## Key Players in the AI Industry\n",
      "\n",
      "Leading companies such as Google, Microsoft, IBM, and Amazon are at the forefront of AI research and development, investing heavily in cutting-edge technologies and solutions. These tech giants are driving innovation in areas such as natural language processing, computer vision, and reinforcement learning, shaping the future of AI applications across industries.\n",
      "\n",
      "In addition to established players, startup companies are also making significant strides in the AI space, disrupting traditional models with innovative products and services. These startups are nimble, agile, and often specialize in niche areas of AI, bringing fresh perspectives and solutions to the market.\n",
      "\n",
      "Moreover, research institutions and universities play a crucial role in advancing AI technologies through groundbreaking research and academic collaborations. Institutions such as Stanford University, MIT, and the Allen Institute for AI are at the forefront of AI research, pushing the boundaries of what is possible in the field.\n",
      "\n",
      "## Noteworthy News in Artificial Intelligence\n",
      "\n",
      "Recent breakthroughs in machine learning algorithms and neural networks have propelled AI capabilities to new heights, enabling applications such as natural language understanding, image recognition, and predictive analytics to achieve unprecedented levels of accuracy and efficiency.\n",
      "\n",
      "The impact of AI on job automation and workforce transformation is a topic of growing concern, as AI technologies have the potential to disrupt traditional job roles and create new opportunities for human-machine collaboration. It is essential for policymakers, industry leaders, and individuals to adapt to these changes and invest in reskilling and upskilling initiatives to thrive in the digital economy.\n",
      "\n",
      "Collaborations between tech giants and government agencies for AI applications are driving innovation and accelerating the adoption of AI technologies in various sectors. By working together, these stakeholders can leverage their expertise and resources to address societal challenges, improve public services, and drive economic growth.\n",
      "\n",
      "Public perception and concerns about the future of AI technology also play a significant role in shaping the development and deployment of AI technologies. Addressing these concerns through transparent communication, ethical guidelines, and robust regulatory frameworks is essential to building trust and ensuring that AI technologies benefit society as a whole.\n",
      "\n",
      "In conclusion, Artificial Intelligence is a dynamic and transformative field that continues to evolve and shape the future of technology and society. By staying informed about the latest trends, key players, and noteworthy news in AI, readers can gain valuable insights into the opportunities and challenges presented by this exciting field. Through engagement in discussions about AI ethics and regulations, individuals can contribute to the responsible and ethical development of AI technologies for the benefit of all.\n",
      "\n",
      "---\n",
      "\n",
      "By seamlessly incorporating the provided SEO keywords and resources, this blog post caters to the interests and pain points of the target audience, offering a comprehensive overview of the latest developments in Artificial Intelligence. With an engaging introduction, insightful body, and summarizing conclusion, this article provides valuable insights and information for readers seeking to understand the implications and advancements in the field of AI technology.\u001b[0m\n",
      "\n",
      "\u001b[1m> Finished chain.\u001b[0m\n",
      "\u001b[1m\u001b[92m [DEBUG]: == [Editor] Task output: # Unveiling the Latest Trends and Key Players in Artificial Intelligence\n",
      "\n",
      "In today's rapidly evolving technological landscape, Artificial Intelligence (AI) has emerged as a groundbreaking field with immense significance. The capabilities of AI technology have advanced at an unprecedented pace, leading to innovations that are revolutionizing various industries and aspects of our daily lives. From healthcare to finance, retail to autonomous vehicles, AI is reshaping the way we interact with technology and the world around us.\n",
      "\n",
      "## Latest Trends in Artificial Intelligence\n",
      "\n",
      "One of the most prominent trends in AI is its widespread adoption across different sectors. In healthcare, AI is being utilized for tasks such as diagnostics, personalized treatment plans, and drug discovery, leading to improved patient outcomes and operational efficiencies. In finance, AI-powered algorithms are revolutionizing risk management, fraud detection, and customer service, enhancing decision-making processes and driving business growth.\n",
      "\n",
      "Another key trend is the evolution of AI-powered chatbots and virtual assistants, which are becoming increasingly sophisticated in their ability to understand and respond to human interactions. These AI applications are transforming customer service experiences, streamlining communication channels, and improving overall user satisfaction.\n",
      "\n",
      "Furthermore, the integration of AI in autonomous vehicles and smart cities is paving the way for a more connected and efficient urban environment. AI technologies are enabling vehicles to navigate complex roadways autonomously, optimize traffic flow, and reduce carbon emissions, contributing to a more sustainable and intelligent transportation system.\n",
      "\n",
      "However, with these advancements come ethical considerations and regulatory challenges surrounding AI development. Issues such as data privacy, algorithmic bias, and accountability are critical aspects that need to be addressed to ensure the responsible and ethical deployment of AI technologies in society.\n",
      "\n",
      "## Key Players in the AI Industry\n",
      "\n",
      "Leading companies such as Google, Microsoft, IBM, and Amazon are at the forefront of AI research and development, investing heavily in cutting-edge technologies and solutions. These tech giants are driving innovation in areas such as natural language processing, computer vision, and reinforcement learning, shaping the future of AI applications across industries.\n",
      "\n",
      "In addition to established players, startup companies are also making significant strides in the AI space, disrupting traditional models with innovative products and services. These startups are nimble, agile, and often specialize in niche areas of AI, bringing fresh perspectives and solutions to the market.\n",
      "\n",
      "Moreover, research institutions and universities play a crucial role in advancing AI technologies through groundbreaking research and academic collaborations. Institutions such as Stanford University, MIT, and the Allen Institute for AI are at the forefront of AI research, pushing the boundaries of what is possible in the field.\n",
      "\n",
      "## Noteworthy News in Artificial Intelligence\n",
      "\n",
      "Recent breakthroughs in machine learning algorithms and neural networks have propelled AI capabilities to new heights, enabling applications such as natural language understanding, image recognition, and predictive analytics to achieve unprecedented levels of accuracy and efficiency.\n",
      "\n",
      "The impact of AI on job automation and workforce transformation is a topic of growing concern, as AI technologies have the potential to disrupt traditional job roles and create new opportunities for human-machine collaboration. It is essential for policymakers, industry leaders, and individuals to adapt to these changes and invest in reskilling and upskilling initiatives to thrive in the digital economy.\n",
      "\n",
      "Collaborations between tech giants and government agencies for AI applications are driving innovation and accelerating the adoption of AI technologies in various sectors. By working together, these stakeholders can leverage their expertise and resources to address societal challenges, improve public services, and drive economic growth.\n",
      "\n",
      "Public perception and concerns about the future of AI technology also play a significant role in shaping the development and deployment of AI technologies. Addressing these concerns through transparent communication, ethical guidelines, and robust regulatory frameworks is essential to building trust and ensuring that AI technologies benefit society as a whole.\n",
      "\n",
      "In conclusion, Artificial Intelligence is a dynamic and transformative field that continues to evolve and shape the future of technology and society. By staying informed about the latest trends, key players, and noteworthy news in AI, readers can gain valuable insights into the opportunities and challenges presented by this exciting field. Through engagement in discussions about AI ethics and regulations, individuals can contribute to the responsible and ethical development of AI technologies for the benefit of all.\n",
      "\n",
      "---\n",
      "\n",
      "By seamlessly incorporating the provided SEO keywords and resources, this blog post caters to the interests and pain points of the target audience, offering a comprehensive overview of the latest developments in Artificial Intelligence. With an engaging introduction, insightful body, and summarizing conclusion, this article provides valuable insights and information for readers seeking to understand the implications and advancements in the field of AI technology.\n",
      "\n",
      "\u001b[00m\n"
     ]
    }
   ],
   "source": [
    "result = crew.kickoff(inputs={\"topic\": \"Artificial Intelligence\"})"
   ]
  },
  {
   "cell_type": "markdown",
   "metadata": {},
   "source": [
    "- Display the results of your execution as markdown in the notebook."
   ]
  },
  {
   "cell_type": "code",
   "execution_count": 12,
   "metadata": {
    "height": 47
   },
   "outputs": [
    {
     "data": {
      "text/markdown": [
       "# Unveiling the Latest Trends and Key Players in Artificial Intelligence\n",
       "\n",
       "In today's rapidly evolving technological landscape, Artificial Intelligence (AI) has emerged as a groundbreaking field with immense significance. The capabilities of AI technology have advanced at an unprecedented pace, leading to innovations that are revolutionizing various industries and aspects of our daily lives. From healthcare to finance, retail to autonomous vehicles, AI is reshaping the way we interact with technology and the world around us.\n",
       "\n",
       "## Latest Trends in Artificial Intelligence\n",
       "\n",
       "One of the most prominent trends in AI is its widespread adoption across different sectors. In healthcare, AI is being utilized for tasks such as diagnostics, personalized treatment plans, and drug discovery, leading to improved patient outcomes and operational efficiencies. In finance, AI-powered algorithms are revolutionizing risk management, fraud detection, and customer service, enhancing decision-making processes and driving business growth.\n",
       "\n",
       "Another key trend is the evolution of AI-powered chatbots and virtual assistants, which are becoming increasingly sophisticated in their ability to understand and respond to human interactions. These AI applications are transforming customer service experiences, streamlining communication channels, and improving overall user satisfaction.\n",
       "\n",
       "Furthermore, the integration of AI in autonomous vehicles and smart cities is paving the way for a more connected and efficient urban environment. AI technologies are enabling vehicles to navigate complex roadways autonomously, optimize traffic flow, and reduce carbon emissions, contributing to a more sustainable and intelligent transportation system.\n",
       "\n",
       "However, with these advancements come ethical considerations and regulatory challenges surrounding AI development. Issues such as data privacy, algorithmic bias, and accountability are critical aspects that need to be addressed to ensure the responsible and ethical deployment of AI technologies in society.\n",
       "\n",
       "## Key Players in the AI Industry\n",
       "\n",
       "Leading companies such as Google, Microsoft, IBM, and Amazon are at the forefront of AI research and development, investing heavily in cutting-edge technologies and solutions. These tech giants are driving innovation in areas such as natural language processing, computer vision, and reinforcement learning, shaping the future of AI applications across industries.\n",
       "\n",
       "In addition to established players, startup companies are also making significant strides in the AI space, disrupting traditional models with innovative products and services. These startups are nimble, agile, and often specialize in niche areas of AI, bringing fresh perspectives and solutions to the market.\n",
       "\n",
       "Moreover, research institutions and universities play a crucial role in advancing AI technologies through groundbreaking research and academic collaborations. Institutions such as Stanford University, MIT, and the Allen Institute for AI are at the forefront of AI research, pushing the boundaries of what is possible in the field.\n",
       "\n",
       "## Noteworthy News in Artificial Intelligence\n",
       "\n",
       "Recent breakthroughs in machine learning algorithms and neural networks have propelled AI capabilities to new heights, enabling applications such as natural language understanding, image recognition, and predictive analytics to achieve unprecedented levels of accuracy and efficiency.\n",
       "\n",
       "The impact of AI on job automation and workforce transformation is a topic of growing concern, as AI technologies have the potential to disrupt traditional job roles and create new opportunities for human-machine collaboration. It is essential for policymakers, industry leaders, and individuals to adapt to these changes and invest in reskilling and upskilling initiatives to thrive in the digital economy.\n",
       "\n",
       "Collaborations between tech giants and government agencies for AI applications are driving innovation and accelerating the adoption of AI technologies in various sectors. By working together, these stakeholders can leverage their expertise and resources to address societal challenges, improve public services, and drive economic growth.\n",
       "\n",
       "Public perception and concerns about the future of AI technology also play a significant role in shaping the development and deployment of AI technologies. Addressing these concerns through transparent communication, ethical guidelines, and robust regulatory frameworks is essential to building trust and ensuring that AI technologies benefit society as a whole.\n",
       "\n",
       "In conclusion, Artificial Intelligence is a dynamic and transformative field that continues to evolve and shape the future of technology and society. By staying informed about the latest trends, key players, and noteworthy news in AI, readers can gain valuable insights into the opportunities and challenges presented by this exciting field. Through engagement in discussions about AI ethics and regulations, individuals can contribute to the responsible and ethical development of AI technologies for the benefit of all.\n",
       "\n",
       "---\n",
       "\n",
       "By seamlessly incorporating the provided SEO keywords and resources, this blog post caters to the interests and pain points of the target audience, offering a comprehensive overview of the latest developments in Artificial Intelligence. With an engaging introduction, insightful body, and summarizing conclusion, this article provides valuable insights and information for readers seeking to understand the implications and advancements in the field of AI technology."
      ],
      "text/plain": [
       "<IPython.core.display.Markdown object>"
      ]
     },
     "execution_count": 12,
     "metadata": {},
     "output_type": "execute_result"
    }
   ],
   "source": [
    "from IPython.display import Markdown\n",
    "Markdown(result)"
   ]
  },
  {
   "cell_type": "markdown",
   "metadata": {},
   "source": [
    "## Try it Yourself\n",
    "\n",
    "- Pass in a topic of your choice and see what the agents come up with!"
   ]
  },
  {
   "cell_type": "code",
   "execution_count": 13,
   "metadata": {
    "height": 47
   },
   "outputs": [
    {
     "name": "stdout",
     "output_type": "stream",
     "text": [
      "\u001b[1m\u001b[95m [DEBUG]: == Working Agent: Content Planner\u001b[00m\n",
      "\u001b[1m\u001b[95m [INFO]: == Starting Task: 1. Prioritize the latest trends, key players, and noteworthy news on advancements in recycled plastic lumber.\n",
      "2. Identify the target audience, considering their interests and pain points.\n",
      "3. Develop a detailed content outline including an introduction, key points, and a call to action.\n",
      "4. Include SEO keywords and relevant data or sources.\u001b[00m\n",
      "\n",
      "\n",
      "\u001b[1m> Entering new CrewAgentExecutor chain...\u001b[0m\n",
      "\u001b[32;1m\u001b[1;3mI now can give a great answer\n",
      "\n",
      "Final Answer: \n",
      "\n",
      "Content Plan Document\n",
      "\n",
      "Topic: Advancements in Recycled Plastic Lumber\n",
      "\n",
      "Introduction:\n",
      "- Brief overview of the history of recycled plastic lumber\n",
      "- Importance of advancements in the industry\n",
      "- Preview of key trends and players in the market\n",
      "\n",
      "Key Points:\n",
      "1. Latest Trends:\n",
      "- Introduction of new composite materials for improved durability\n",
      "- Increased focus on sustainable manufacturing processes\n",
      "- Growing demand for eco-friendly building materials\n",
      "- Expansion of applications beyond traditional decking and fencing\n",
      "\n",
      "2. Key Players:\n",
      "- Trex Company Inc.\n",
      "- Azek Building Products\n",
      "- Bedford Technology\n",
      "- Tangent Technologies\n",
      "- U.S. Plastic Lumber\n",
      "\n",
      "3. Noteworthy News:\n",
      "- Recent innovations in color options for recycled plastic lumber\n",
      "- Collaboration between manufacturers and environmental organizations\n",
      "- Impact of recycled plastic lumber on reducing plastic waste in landfills\n",
      "\n",
      "Target Audience:\n",
      "- Homeowners looking for sustainable building materials\n",
      "- Contractors and builders seeking eco-friendly options\n",
      "- Environmental enthusiasts interested in reducing plastic waste\n",
      "- DIY enthusiasts looking for durable and easy-to-maintain materials\n",
      "\n",
      "SEO Keywords:\n",
      "- Recycled plastic lumber\n",
      "- Sustainable building materials\n",
      "- Composite decking\n",
      "- Eco-friendly construction\n",
      "- Plastic waste reduction\n",
      "\n",
      "Resources:\n",
      "1. \"Advancements in Recycled Plastic Lumber\" by Plastics Recycling Update\n",
      "2. \"The Future of Sustainable Construction Materials\" by Green Building Supply\n",
      "3. \"Innovations in Composite Decking\" by Remodeling Magazine\n",
      "\n",
      "Call to Action:\n",
      "- Encourage readers to explore the benefits of recycled plastic lumber for their next construction project\n",
      "- Provide links to reputable manufacturers and suppliers for further information\n",
      "- Invite readers to share their experiences with recycled plastic lumber in the comments section for a chance to be featured in future articles.\u001b[0m\n",
      "\n",
      "\u001b[1m> Finished chain.\u001b[0m\n",
      "\u001b[1m\u001b[92m [DEBUG]: == [Content Planner] Task output: Content Plan Document\n",
      "\n",
      "Topic: Advancements in Recycled Plastic Lumber\n",
      "\n",
      "Introduction:\n",
      "- Brief overview of the history of recycled plastic lumber\n",
      "- Importance of advancements in the industry\n",
      "- Preview of key trends and players in the market\n",
      "\n",
      "Key Points:\n",
      "1. Latest Trends:\n",
      "- Introduction of new composite materials for improved durability\n",
      "- Increased focus on sustainable manufacturing processes\n",
      "- Growing demand for eco-friendly building materials\n",
      "- Expansion of applications beyond traditional decking and fencing\n",
      "\n",
      "2. Key Players:\n",
      "- Trex Company Inc.\n",
      "- Azek Building Products\n",
      "- Bedford Technology\n",
      "- Tangent Technologies\n",
      "- U.S. Plastic Lumber\n",
      "\n",
      "3. Noteworthy News:\n",
      "- Recent innovations in color options for recycled plastic lumber\n",
      "- Collaboration between manufacturers and environmental organizations\n",
      "- Impact of recycled plastic lumber on reducing plastic waste in landfills\n",
      "\n",
      "Target Audience:\n",
      "- Homeowners looking for sustainable building materials\n",
      "- Contractors and builders seeking eco-friendly options\n",
      "- Environmental enthusiasts interested in reducing plastic waste\n",
      "- DIY enthusiasts looking for durable and easy-to-maintain materials\n",
      "\n",
      "SEO Keywords:\n",
      "- Recycled plastic lumber\n",
      "- Sustainable building materials\n",
      "- Composite decking\n",
      "- Eco-friendly construction\n",
      "- Plastic waste reduction\n",
      "\n",
      "Resources:\n",
      "1. \"Advancements in Recycled Plastic Lumber\" by Plastics Recycling Update\n",
      "2. \"The Future of Sustainable Construction Materials\" by Green Building Supply\n",
      "3. \"Innovations in Composite Decking\" by Remodeling Magazine\n",
      "\n",
      "Call to Action:\n",
      "- Encourage readers to explore the benefits of recycled plastic lumber for their next construction project\n",
      "- Provide links to reputable manufacturers and suppliers for further information\n",
      "- Invite readers to share their experiences with recycled plastic lumber in the comments section for a chance to be featured in future articles.\n",
      "\n",
      "\u001b[00m\n",
      "\u001b[1m\u001b[95m [DEBUG]: == Working Agent: Content Writer\u001b[00m\n",
      "\u001b[1m\u001b[95m [INFO]: == Starting Task: 1. Use the content plan to craft a compelling blog post on advancements in recycled plastic lumber.\n",
      "2. Incorporate SEO keywords naturally.\n",
      "3. Sections/Subtitles are properly named in an engaging manner.\n",
      "4. Ensure the post is structured with an engaging introduction, insightful body, and a summarizing conclusion.\n",
      "5. Proofread for grammatical errors and alignment with the brand's voice.\n",
      "\u001b[00m\n",
      "\n",
      "\n",
      "\u001b[1m> Entering new CrewAgentExecutor chain...\u001b[0m\n",
      "\u001b[32;1m\u001b[1;3mI now can give a great answer\n",
      "\n",
      "Final Answer:\n",
      "\n",
      "# Advancements in Recycled Plastic Lumber: Building a Sustainable Future\n",
      "\n",
      "## Introduction\n",
      "Recycled plastic lumber has come a long way since its inception, offering a sustainable alternative to traditional wood lumber. With the increasing focus on environmental conservation and sustainable practices, advancements in the industry have become more crucial than ever. This blog post will delve into the latest trends, key players in the market, and noteworthy news surrounding recycled plastic lumber, shedding light on the innovative solutions shaping the future of construction materials.\n",
      "\n",
      "## Latest Trends\n",
      "One of the most significant advancements in recycled plastic lumber is the introduction of new composite materials that enhance durability and longevity. These innovative materials not only mimic the look and feel of traditional wood but also outperform it in terms of resistance to rot, decay, and insect damage. Additionally, there is a growing emphasis on sustainable manufacturing processes, with manufacturers investing in energy-efficient production methods and recycling initiatives to reduce their environmental footprint.\n",
      "\n",
      "Moreover, the demand for eco-friendly building materials is on the rise, driving the expansion of applications for recycled plastic lumber beyond traditional decking and fencing. From furniture and playground equipment to boardwalks and retaining walls, the versatility of recycled plastic lumber is opening up new possibilities for sustainable construction practices.\n",
      "\n",
      "## Key Players\n",
      "Several key players are leading the way in the recycled plastic lumber industry, including Trex Company Inc., Azek Building Products, Bedford Technology, Tangent Technologies, and U.S. Plastic Lumber. These companies are at the forefront of innovation, constantly pushing the boundaries of what is possible with recycled materials. By investing in research and development, they are driving the industry forward and setting new standards for quality and sustainability.\n",
      "\n",
      "## Noteworthy News\n",
      "Recent innovations in color options for recycled plastic lumber have made it more visually appealing and versatile than ever before. Manufacturers are now offering a wide range of hues and finishes to suit any design aesthetic, making recycled plastic lumber a viable option for both residential and commercial projects. Furthermore, collaborations between manufacturers and environmental organizations are paving the way for more sustainable practices and initiatives aimed at reducing plastic waste in landfills.\n",
      "\n",
      "In conclusion, advancements in recycled plastic lumber are revolutionizing the construction industry, offering a sustainable solution to traditional building materials. By embracing these innovations, homeowners, contractors, and environmental enthusiasts can contribute to reducing plastic waste and building a greener future for generations to come. So, why not consider recycled plastic lumber for your next construction project and be a part of the sustainable building movement?\n",
      "\n",
      "*Join the conversation and share your experiences with recycled plastic lumber in the comments below. Together, we can make a difference!*\u001b[0m\n",
      "\n",
      "\u001b[1m> Finished chain.\u001b[0m\n",
      "\u001b[1m\u001b[92m [DEBUG]: == [Content Writer] Task output: # Advancements in Recycled Plastic Lumber: Building a Sustainable Future\n",
      "\n",
      "## Introduction\n",
      "Recycled plastic lumber has come a long way since its inception, offering a sustainable alternative to traditional wood lumber. With the increasing focus on environmental conservation and sustainable practices, advancements in the industry have become more crucial than ever. This blog post will delve into the latest trends, key players in the market, and noteworthy news surrounding recycled plastic lumber, shedding light on the innovative solutions shaping the future of construction materials.\n",
      "\n",
      "## Latest Trends\n",
      "One of the most significant advancements in recycled plastic lumber is the introduction of new composite materials that enhance durability and longevity. These innovative materials not only mimic the look and feel of traditional wood but also outperform it in terms of resistance to rot, decay, and insect damage. Additionally, there is a growing emphasis on sustainable manufacturing processes, with manufacturers investing in energy-efficient production methods and recycling initiatives to reduce their environmental footprint.\n",
      "\n",
      "Moreover, the demand for eco-friendly building materials is on the rise, driving the expansion of applications for recycled plastic lumber beyond traditional decking and fencing. From furniture and playground equipment to boardwalks and retaining walls, the versatility of recycled plastic lumber is opening up new possibilities for sustainable construction practices.\n",
      "\n",
      "## Key Players\n",
      "Several key players are leading the way in the recycled plastic lumber industry, including Trex Company Inc., Azek Building Products, Bedford Technology, Tangent Technologies, and U.S. Plastic Lumber. These companies are at the forefront of innovation, constantly pushing the boundaries of what is possible with recycled materials. By investing in research and development, they are driving the industry forward and setting new standards for quality and sustainability.\n",
      "\n",
      "## Noteworthy News\n",
      "Recent innovations in color options for recycled plastic lumber have made it more visually appealing and versatile than ever before. Manufacturers are now offering a wide range of hues and finishes to suit any design aesthetic, making recycled plastic lumber a viable option for both residential and commercial projects. Furthermore, collaborations between manufacturers and environmental organizations are paving the way for more sustainable practices and initiatives aimed at reducing plastic waste in landfills.\n",
      "\n",
      "In conclusion, advancements in recycled plastic lumber are revolutionizing the construction industry, offering a sustainable solution to traditional building materials. By embracing these innovations, homeowners, contractors, and environmental enthusiasts can contribute to reducing plastic waste and building a greener future for generations to come. So, why not consider recycled plastic lumber for your next construction project and be a part of the sustainable building movement?\n",
      "\n",
      "*Join the conversation and share your experiences with recycled plastic lumber in the comments below. Together, we can make a difference!*\n",
      "\n",
      "\u001b[00m\n",
      "\u001b[1m\u001b[95m [DEBUG]: == Working Agent: Editor\u001b[00m\n",
      "\u001b[1m\u001b[95m [INFO]: == Starting Task: Proofread the given blog post for grammatical errors and alignment with the brand's voice.\u001b[00m\n",
      "\n",
      "\n",
      "\u001b[1m> Entering new CrewAgentExecutor chain...\u001b[0m\n"
     ]
    },
    {
     "name": "stdout",
     "output_type": "stream",
     "text": [
      "\u001b[32;1m\u001b[1;3mI now can give a great answer\n",
      "\n",
      "Final Answer:\n",
      "# Advancements in Recycled Plastic Lumber: Building a Sustainable Future\n",
      "\n",
      "## Introduction\n",
      "Recycled plastic lumber has undergone significant advancements, providing a sustainable alternative to traditional wood lumber. As the focus on environmental conservation and sustainable practices continues to grow, the innovations in this industry have become more essential than ever. This blog post aims to explore the latest trends, key players in the market, and noteworthy news surrounding recycled plastic lumber, offering insights into the innovative solutions that are shaping the future of construction materials.\n",
      "\n",
      "## Latest Trends\n",
      "A notable development in recycled plastic lumber is the introduction of new composite materials that enhance durability and longevity. These materials not only replicate the look and feel of traditional wood but also surpass it in terms of resistance to rot, decay, and insect damage. Additionally, there is a notable emphasis on sustainable manufacturing processes, with manufacturers investing in energy-efficient production methods and recycling initiatives to minimize their environmental impact.\n",
      "\n",
      "Furthermore, the demand for eco-friendly building materials is increasing, leading to the expansion of applications for recycled plastic lumber beyond traditional decking and fencing. From furniture and playground equipment to boardwalks and retaining walls, the versatility of recycled plastic lumber is creating new opportunities for sustainable construction practices.\n",
      "\n",
      "## Key Players\n",
      "Several leading companies are driving innovation in the recycled plastic lumber industry, including Trex Company Inc., Azek Building Products, Bedford Technology, Tangent Technologies, and U.S. Plastic Lumber. These industry leaders are constantly pushing the boundaries of what can be achieved with recycled materials through research and development efforts, setting new benchmarks for quality and sustainability.\n",
      "\n",
      "## Noteworthy News\n",
      "Recent advancements in color options for recycled plastic lumber have enhanced its visual appeal and versatility. Manufacturers now offer a wide array of hues and finishes to cater to various design preferences, making recycled plastic lumber a viable choice for both residential and commercial projects. Collaborations between manufacturers and environmental organizations are also paving the way for more sustainable practices and initiatives aimed at reducing plastic waste in landfills.\n",
      "\n",
      "In conclusion, the progress in recycled plastic lumber is transforming the construction industry by providing a sustainable alternative to traditional building materials. Embracing these innovations allows individuals to contribute to reducing plastic waste and building a greener future for future generations. Consider using recycled plastic lumber for your next construction project and be part of the sustainable building movement.\n",
      "\n",
      "*Share your experiences with recycled plastic lumber in the comments below and join the conversation to make a positive impact!*\u001b[0m\n",
      "\n",
      "\u001b[1m> Finished chain.\u001b[0m\n",
      "\u001b[1m\u001b[92m [DEBUG]: == [Editor] Task output: # Advancements in Recycled Plastic Lumber: Building a Sustainable Future\n",
      "\n",
      "## Introduction\n",
      "Recycled plastic lumber has undergone significant advancements, providing a sustainable alternative to traditional wood lumber. As the focus on environmental conservation and sustainable practices continues to grow, the innovations in this industry have become more essential than ever. This blog post aims to explore the latest trends, key players in the market, and noteworthy news surrounding recycled plastic lumber, offering insights into the innovative solutions that are shaping the future of construction materials.\n",
      "\n",
      "## Latest Trends\n",
      "A notable development in recycled plastic lumber is the introduction of new composite materials that enhance durability and longevity. These materials not only replicate the look and feel of traditional wood but also surpass it in terms of resistance to rot, decay, and insect damage. Additionally, there is a notable emphasis on sustainable manufacturing processes, with manufacturers investing in energy-efficient production methods and recycling initiatives to minimize their environmental impact.\n",
      "\n",
      "Furthermore, the demand for eco-friendly building materials is increasing, leading to the expansion of applications for recycled plastic lumber beyond traditional decking and fencing. From furniture and playground equipment to boardwalks and retaining walls, the versatility of recycled plastic lumber is creating new opportunities for sustainable construction practices.\n",
      "\n",
      "## Key Players\n",
      "Several leading companies are driving innovation in the recycled plastic lumber industry, including Trex Company Inc., Azek Building Products, Bedford Technology, Tangent Technologies, and U.S. Plastic Lumber. These industry leaders are constantly pushing the boundaries of what can be achieved with recycled materials through research and development efforts, setting new benchmarks for quality and sustainability.\n",
      "\n",
      "## Noteworthy News\n",
      "Recent advancements in color options for recycled plastic lumber have enhanced its visual appeal and versatility. Manufacturers now offer a wide array of hues and finishes to cater to various design preferences, making recycled plastic lumber a viable choice for both residential and commercial projects. Collaborations between manufacturers and environmental organizations are also paving the way for more sustainable practices and initiatives aimed at reducing plastic waste in landfills.\n",
      "\n",
      "In conclusion, the progress in recycled plastic lumber is transforming the construction industry by providing a sustainable alternative to traditional building materials. Embracing these innovations allows individuals to contribute to reducing plastic waste and building a greener future for future generations. Consider using recycled plastic lumber for your next construction project and be part of the sustainable building movement.\n",
      "\n",
      "*Share your experiences with recycled plastic lumber in the comments below and join the conversation to make a positive impact!*\n",
      "\n",
      "\u001b[00m\n"
     ]
    }
   ],
   "source": [
    "topic = \"advancements in recycled plastic lumber\"\n",
    "result = crew.kickoff(inputs={\"topic\": topic})"
   ]
  },
  {
   "cell_type": "code",
   "execution_count": 14,
   "metadata": {
    "height": 30
   },
   "outputs": [
    {
     "data": {
      "text/markdown": [
       "# Advancements in Recycled Plastic Lumber: Building a Sustainable Future\n",
       "\n",
       "## Introduction\n",
       "Recycled plastic lumber has undergone significant advancements, providing a sustainable alternative to traditional wood lumber. As the focus on environmental conservation and sustainable practices continues to grow, the innovations in this industry have become more essential than ever. This blog post aims to explore the latest trends, key players in the market, and noteworthy news surrounding recycled plastic lumber, offering insights into the innovative solutions that are shaping the future of construction materials.\n",
       "\n",
       "## Latest Trends\n",
       "A notable development in recycled plastic lumber is the introduction of new composite materials that enhance durability and longevity. These materials not only replicate the look and feel of traditional wood but also surpass it in terms of resistance to rot, decay, and insect damage. Additionally, there is a notable emphasis on sustainable manufacturing processes, with manufacturers investing in energy-efficient production methods and recycling initiatives to minimize their environmental impact.\n",
       "\n",
       "Furthermore, the demand for eco-friendly building materials is increasing, leading to the expansion of applications for recycled plastic lumber beyond traditional decking and fencing. From furniture and playground equipment to boardwalks and retaining walls, the versatility of recycled plastic lumber is creating new opportunities for sustainable construction practices.\n",
       "\n",
       "## Key Players\n",
       "Several leading companies are driving innovation in the recycled plastic lumber industry, including Trex Company Inc., Azek Building Products, Bedford Technology, Tangent Technologies, and U.S. Plastic Lumber. These industry leaders are constantly pushing the boundaries of what can be achieved with recycled materials through research and development efforts, setting new benchmarks for quality and sustainability.\n",
       "\n",
       "## Noteworthy News\n",
       "Recent advancements in color options for recycled plastic lumber have enhanced its visual appeal and versatility. Manufacturers now offer a wide array of hues and finishes to cater to various design preferences, making recycled plastic lumber a viable choice for both residential and commercial projects. Collaborations between manufacturers and environmental organizations are also paving the way for more sustainable practices and initiatives aimed at reducing plastic waste in landfills.\n",
       "\n",
       "In conclusion, the progress in recycled plastic lumber is transforming the construction industry by providing a sustainable alternative to traditional building materials. Embracing these innovations allows individuals to contribute to reducing plastic waste and building a greener future for future generations. Consider using recycled plastic lumber for your next construction project and be part of the sustainable building movement.\n",
       "\n",
       "*Share your experiences with recycled plastic lumber in the comments below and join the conversation to make a positive impact!*"
      ],
      "text/plain": [
       "<IPython.core.display.Markdown object>"
      ]
     },
     "execution_count": 14,
     "metadata": {},
     "output_type": "execute_result"
    }
   ],
   "source": [
    "Markdown(result)"
   ]
  },
  {
   "cell_type": "markdown",
   "metadata": {},
   "source": [
    "<a name='1'></a>\n",
    " ## Other Popular Models as LLM for your Agents"
   ]
  },
  {
   "cell_type": "markdown",
   "metadata": {},
   "source": [
    "#### Hugging Face (HuggingFaceHub endpoint)\n",
    "\n",
    "```Python\n",
    "from langchain_community.llms import HuggingFaceHub\n",
    "\n",
    "llm = HuggingFaceHub(\n",
    "    repo_id=\"HuggingFaceH4/zephyr-7b-beta\",\n",
    "    huggingfacehub_api_token=\"<HF_TOKEN_HERE>\",\n",
    "    task=\"text-generation\",\n",
    ")\n",
    "\n",
    "### you will pass \"llm\" to your agent function\n",
    "```"
   ]
  },
  {
   "cell_type": "markdown",
   "metadata": {},
   "source": [
    "#### Mistral API\n",
    "\n",
    "```Python\n",
    "OPENAI_API_KEY=your-mistral-api-key\n",
    "OPENAI_API_BASE=https://api.mistral.ai/v1\n",
    "OPENAI_MODEL_NAME=\"mistral-small\"\n",
    "```"
   ]
  },
  {
   "cell_type": "markdown",
   "metadata": {},
   "source": [
    "#### Cohere\n",
    "\n",
    "```Python\n",
    "from langchain_community.chat_models import ChatCohere\n",
    "# Initialize language model\n",
    "os.environ[\"COHERE_API_KEY\"] = \"your-cohere-api-key\"\n",
    "llm = ChatCohere()\n",
    "\n",
    "### you will pass \"llm\" to your agent function\n",
    "```"
   ]
  },
  {
   "cell_type": "markdown",
   "metadata": {},
   "source": [
    "### For using Llama locally with Ollama and more, checkout the crewAI documentation on [Connecting to any LLM](https://docs.crewai.com/how-to/LLM-Connections/)."
   ]
  },
  {
   "cell_type": "code",
   "execution_count": null,
   "metadata": {
    "height": 30
   },
   "outputs": [],
   "source": []
  },
  {
   "cell_type": "code",
   "execution_count": null,
   "metadata": {
    "height": 30
   },
   "outputs": [],
   "source": []
  },
  {
   "cell_type": "code",
   "execution_count": null,
   "metadata": {
    "height": 30
   },
   "outputs": [],
   "source": []
  }
 ],
 "metadata": {
  "colab": {
   "gpuType": "T4",
   "provenance": []
  },
  "kernelspec": {
   "display_name": "Python 3 (ipykernel)",
   "language": "python",
   "name": "python3"
  },
  "language_info": {
   "codemirror_mode": {
    "name": "ipython",
    "version": 3
   },
   "file_extension": ".py",
   "mimetype": "text/x-python",
   "name": "python",
   "nbconvert_exporter": "python",
   "pygments_lexer": "ipython3",
   "version": "3.11.9"
  }
 },
 "nbformat": 4,
 "nbformat_minor": 4
}
